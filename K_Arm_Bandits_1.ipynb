{
 "cells": [
  {
   "cell_type": "code",
   "execution_count": 1,
   "metadata": {},
   "outputs": [],
   "source": [
    "import numpy as np\n",
    "import matplotlib.pyplot as plt"
   ]
  },
  {
   "cell_type": "code",
   "execution_count": 81,
   "metadata": {},
   "outputs": [],
   "source": [
    "class K_Arm_Bandit:\n",
    "    def __init__(self, K, e):\n",
    "        self.arms = K\n",
    "        self.rewards = np.random.normal(size = K)\n",
    "        for i in range(1000):\n",
    "            np.random.seed(i)\n",
    "            self.rewards += np.random.normal(size = K)\n",
    "        self.rewards /= 1000\n",
    "        self.e = e\n",
    "        self.n = 0\n",
    "        self.records = {}\n",
    "        for i in range(K):\n",
    "            self.records[i] = 0\n",
    "        print(\"Initial best arm: \", np.argmax(self.rewards))\n",
    "        \n",
    "    def SelectArm(self):\n",
    "        sample = np.random.uniform(size = 1)\n",
    "        if sample >= (1 - self.e):\n",
    "            return int(np.argmax(self.rewards))\n",
    "        else:\n",
    "            return (int(np.floor(10 * np.random.uniform(size = 1)[0])))\n",
    "        \n",
    "        \n",
    "    def Act(self):\n",
    "        arm = self.SelectArm()\n",
    "        if arm in self.records.keys():\n",
    "            self.records[arm] += 1\n",
    "        else:\n",
    "            self.records[arm] = 1\n",
    "        reward = np.random.normal(loc = self.rewards[arm], size = 1)\n",
    "        self.rewards[arm] = (self.n * self.rewards[arm] + reward)/(self.n + 1)\n",
    "        self.n += 1"
   ]
  },
  {
   "cell_type": "code",
   "execution_count": 82,
   "metadata": {},
   "outputs": [
    {
     "name": "stdout",
     "output_type": "stream",
     "text": [
      "Initial best arm:  3\n"
     ]
    }
   ],
   "source": [
    "agent = K_Arm_Bandit(10, 0.9)"
   ]
  },
  {
   "cell_type": "code",
   "execution_count": 83,
   "metadata": {},
   "outputs": [],
   "source": [
    "for i in range(10000):\n",
    "    agent.Act()"
   ]
  },
  {
   "cell_type": "code",
   "execution_count": 84,
   "metadata": {},
   "outputs": [
    {
     "data": {
      "text/plain": [
       "0.3697935614508759"
      ]
     },
     "execution_count": 84,
     "metadata": {},
     "output_type": "execute_result"
    }
   ],
   "source": [
    "max(agent.rewards)"
   ]
  },
  {
   "cell_type": "code",
   "execution_count": 85,
   "metadata": {},
   "outputs": [
    {
     "data": {
      "text/plain": [
       "array([-0.01341935,  0.0079927 ,  0.00588609, -0.32211636, -0.01818569,\n",
       "        0.36979356, -0.0432364 , -0.0496822 , -0.09870034, -0.39971371])"
      ]
     },
     "execution_count": 85,
     "metadata": {},
     "output_type": "execute_result"
    }
   ],
   "source": [
    "agent.rewards"
   ]
  },
  {
   "cell_type": "code",
   "execution_count": 86,
   "metadata": {},
   "outputs": [
    {
     "data": {
      "text/plain": [
       "5"
      ]
     },
     "execution_count": 86,
     "metadata": {},
     "output_type": "execute_result"
    }
   ],
   "source": [
    "np.argmax(agent.rewards)"
   ]
  },
  {
   "cell_type": "code",
   "execution_count": 87,
   "metadata": {},
   "outputs": [
    {
     "data": {
      "text/plain": [
       "{0: 105, 1: 109, 2: 87, 3: 98, 4: 96, 5: 9080, 6: 90, 7: 91, 8: 124, 9: 120}"
      ]
     },
     "execution_count": 87,
     "metadata": {},
     "output_type": "execute_result"
    }
   ],
   "source": [
    "agent.records"
   ]
  },
  {
   "cell_type": "code",
   "execution_count": null,
   "metadata": {},
   "outputs": [],
   "source": []
  }
 ],
 "metadata": {
  "kernelspec": {
   "display_name": "Python 3",
   "language": "python",
   "name": "python3"
  },
  "language_info": {
   "codemirror_mode": {
    "name": "ipython",
    "version": 3
   },
   "file_extension": ".py",
   "mimetype": "text/x-python",
   "name": "python",
   "nbconvert_exporter": "python",
   "pygments_lexer": "ipython3",
   "version": "3.5.2"
  }
 },
 "nbformat": 4,
 "nbformat_minor": 2
}
