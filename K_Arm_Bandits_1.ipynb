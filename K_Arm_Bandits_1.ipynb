{
 "cells": [
  {
   "cell_type": "code",
   "execution_count": 181,
   "metadata": {},
   "outputs": [],
   "source": [
    "import time\n",
    "import numpy as np\n",
    "import matplotlib.pyplot as plt"
   ]
  },
  {
   "cell_type": "code",
   "execution_count": 236,
   "metadata": {},
   "outputs": [],
   "source": [
    "class K_Arm_Bandit:\n",
    "    def __init__(self, K, e):\n",
    "        np.random.seed(int(round(time.time() * 1000)) % 1000)\n",
    "        self.arms = K\n",
    "        self.rewards = np.random.uniform(size = K)\n",
    "        self.e = e\n",
    "        self.n = 0\n",
    "        self.records = {}\n",
    "        for i in range(K):\n",
    "            self.records[i] = 0\n",
    "        print(\"Initial best arm: \", np.argmax(self.rewards))\n",
    "        \n",
    "    def SelectArm(self):\n",
    "        sample = np.random.uniform(size = 1)\n",
    "        if sample >= (1 - self.e):\n",
    "            return int(np.argmax(self.rewards))\n",
    "        else:\n",
    "            return (int(np.floor(10 * np.random.uniform(size = 1)[0])))\n",
    "        \n",
    "        \n",
    "    def Act(self):\n",
    "        arm = self.SelectArm()\n",
    "        if arm in self.records.keys():\n",
    "            self.records[arm] += 1\n",
    "        else:\n",
    "            self.records[arm] = 1\n",
    "        reward = np.random.normal(loc = self.rewards[arm], size = 1)\n",
    "        self.rewards[arm] = (self.n * self.rewards[arm] + reward)/(self.n + 1)\n",
    "        self.n += 1"
   ]
  },
  {
   "cell_type": "code",
   "execution_count": 292,
   "metadata": {},
   "outputs": [
    {
     "name": "stdout",
     "output_type": "stream",
     "text": [
      "Initial best arm:  7\n"
     ]
    }
   ],
   "source": [
    "agent = K_Arm_Bandit(10, 0.6)"
   ]
  },
  {
   "cell_type": "code",
   "execution_count": 293,
   "metadata": {},
   "outputs": [],
   "source": [
    "for i in range(10000):\n",
    "    agent.Act()"
   ]
  },
  {
   "cell_type": "code",
   "execution_count": 294,
   "metadata": {},
   "outputs": [
    {
     "data": {
      "text/plain": [
       "1.4973468660190483"
      ]
     },
     "execution_count": 294,
     "metadata": {},
     "output_type": "execute_result"
    }
   ],
   "source": [
    "max(agent.rewards)"
   ]
  },
  {
   "cell_type": "code",
   "execution_count": 295,
   "metadata": {},
   "outputs": [
    {
     "data": {
      "text/plain": [
       "array([ 0.47424054,  0.46197593,  0.97180868,  0.52042491,  1.13386328,\n",
       "        1.49734687,  0.83636056,  0.64459031, -0.07196813,  0.13967067])"
      ]
     },
     "execution_count": 295,
     "metadata": {},
     "output_type": "execute_result"
    }
   ],
   "source": [
    "agent.rewards"
   ]
  },
  {
   "cell_type": "code",
   "execution_count": 296,
   "metadata": {},
   "outputs": [
    {
     "data": {
      "text/plain": [
       "5"
      ]
     },
     "execution_count": 296,
     "metadata": {},
     "output_type": "execute_result"
    }
   ],
   "source": [
    "np.argmax(agent.rewards)"
   ]
  },
  {
   "cell_type": "code",
   "execution_count": 297,
   "metadata": {},
   "outputs": [
    {
     "data": {
      "text/plain": [
       "{0: 427,\n",
       " 1: 365,\n",
       " 2: 386,\n",
       " 3: 378,\n",
       " 4: 423,\n",
       " 5: 6402,\n",
       " 6: 407,\n",
       " 7: 392,\n",
       " 8: 435,\n",
       " 9: 385}"
      ]
     },
     "execution_count": 297,
     "metadata": {},
     "output_type": "execute_result"
    }
   ],
   "source": [
    "agent.records"
   ]
  },
  {
   "cell_type": "code",
   "execution_count": null,
   "metadata": {},
   "outputs": [],
   "source": []
  }
 ],
 "metadata": {
  "kernelspec": {
   "display_name": "Python 3",
   "language": "python",
   "name": "python3"
  },
  "language_info": {
   "codemirror_mode": {
    "name": "ipython",
    "version": 3
   },
   "file_extension": ".py",
   "mimetype": "text/x-python",
   "name": "python",
   "nbconvert_exporter": "python",
   "pygments_lexer": "ipython3",
   "version": "3.5.2"
  }
 },
 "nbformat": 4,
 "nbformat_minor": 2
}
