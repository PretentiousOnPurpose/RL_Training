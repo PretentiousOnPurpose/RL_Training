{
 "cells": [
  {
   "cell_type": "code",
   "execution_count": 1,
   "metadata": {},
   "outputs": [],
   "source": [
    "import numpy as np\n",
    "import matplotlib.pyplot as plt\n",
    "%matplotlib inline"
   ]
  },
  {
   "cell_type": "code",
   "execution_count": 15,
   "metadata": {},
   "outputs": [],
   "source": [
    "class Bandit:\n",
    "    def __init__(self, K):\n",
    "        self.K = K\n",
    "        self.total = 0\n",
    "        self.rewards = np.random.normal(0, 1, (K, ))\n",
    "        self.records = np.zeros_like(self.rewards)\n",
    "        self.history = []\n",
    "        for i in range(K):\n",
    "            self.records[i] = 0\n",
    "        self.n = 0\n",
    "        \n",
    "    def RewardFn(self, arm):\n",
    "        if arm == 3:\n",
    "            return 10.0\n",
    "        else:\n",
    "            return -1\n",
    "        \n",
    "    def getArm(self):\n",
    "         return np.argmax(np.exp(self.rewards)/np.sum(np.exp(self.rewards)))\n",
    "        \n",
    "    def Pull(self):\n",
    "        arm = self.getArm()\n",
    "        self.records[arm] += 1\n",
    "        currReward = self.RewardFn(arm)\n",
    "        self.total += currReward\n",
    "        self.history.append(self.total)\n",
    "        self.rewards[arm] = (self.rewards[arm] * self.n + currReward)/(self.n + 1) \n",
    "        self.n += 1"
   ]
  },
  {
   "cell_type": "code",
   "execution_count": 21,
   "metadata": {},
   "outputs": [],
   "source": [
    "agent = Bandit(10)"
   ]
  },
  {
   "cell_type": "code",
   "execution_count": 22,
   "metadata": {},
   "outputs": [],
   "source": [
    "for i in range(1000):\n",
    "    agent.Pull()"
   ]
  },
  {
   "cell_type": "code",
   "execution_count": 23,
   "metadata": {},
   "outputs": [
    {
     "data": {
      "text/plain": [
       "array([  0.,   0.,   1., 996.,   0.,   1.,   0.,   1.,   1.,   0.])"
      ]
     },
     "execution_count": 23,
     "metadata": {},
     "output_type": "execute_result"
    }
   ],
   "source": [
    "agent.records"
   ]
  },
  {
   "cell_type": "code",
   "execution_count": 24,
   "metadata": {},
   "outputs": [
    {
     "data": {
      "text/plain": [
       "[<matplotlib.lines.Line2D at 0x7f6d9f452128>]"
      ]
     },
     "execution_count": 24,
     "metadata": {},
     "output_type": "execute_result"
    },
    {
     "data": {
      "image/png": "[encoded data removed]",
      "text/plain": [
       "<Figure size 432x288 with 1 Axes>"
      ]
     },
     "metadata": {},
     "output_type": "display_data"
    }
   ],
   "source": [
    "plt.plot(agent.history[:400])"
   ]
  },
  {
   "cell_type": "code",
   "execution_count": null,
   "metadata": {},
   "outputs": [],
   "source": []
  }
 ],
 "metadata": {
  "kernelspec": {
   "display_name": "Python 3",
   "language": "python",
   "name": "python3"
  },
  "language_info": {
   "codemirror_mode": {
    "name": "ipython",
    "version": 3
   },
   "file_extension": ".py",
   "mimetype": "text/x-python",
   "name": "python",
   "nbconvert_exporter": "python",
   "pygments_lexer": "ipython3",
   "version": "3.6.5"
  }
 },
 "nbformat": 4,
 "nbformat_minor": 2
}
