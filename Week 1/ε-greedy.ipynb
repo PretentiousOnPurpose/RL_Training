{
 "cells": [
  {
   "cell_type": "code",
   "execution_count": 7,
   "metadata": {},
   "outputs": [],
   "source": [
    "import numpy as np\n",
    "import matplotlib.pyplot as plt\n",
    "%matplotlib inline"
   ]
  },
  {
   "cell_type": "code",
   "execution_count": 106,
   "metadata": {},
   "outputs": [],
   "source": [
    "class Bandit:\n",
    "    def __init__(self, K, e):\n",
    "        self.e = e\n",
    "        self.K = K\n",
    "        self.total = 0\n",
    "        self.rewards = np.random.normal(0, 1, (K, ))\n",
    "        self.records = np.zeros_like(self.rewards)\n",
    "        self.history = []\n",
    "        for i in range(K):\n",
    "            self.records[i] = 0\n",
    "        self.n = 0\n",
    "        \n",
    "    def RewardFn(self, arm):\n",
    "        if arm == 3:\n",
    "            return 10.0\n",
    "        else:\n",
    "            return -1\n",
    "\n",
    "    def Pull(self):\n",
    "        p1 = np.random.uniform(0, 1, 1)[0]\n",
    "        if p1 < (1-self.e):\n",
    "            arm = int(np.argmax(self.rewards))\n",
    "        else:\n",
    "            p2 = np.random.uniform(0, 1, 1)[0]\n",
    "            arm = int(np.floor(p2 * 10))\n",
    "\n",
    "        self.records[arm] += 1\n",
    "        currReward = self.RewardFn(arm)\n",
    "        self.total += currReward\n",
    "        self.history.append(self.total)\n",
    "        self.rewards[arm] = (self.rewards[arm] * self.n + currReward)/(self.n + 1) \n",
    "        self.n += 1"
   ]
  },
  {
   "cell_type": "code",
   "execution_count": 107,
   "metadata": {},
   "outputs": [],
   "source": [
    "agent = Bandit(10, 0.10)"
   ]
  },
  {
   "cell_type": "code",
   "execution_count": 112,
   "metadata": {},
   "outputs": [],
   "source": [
    "for i in range(100000):\n",
    "    agent.Pull()"
   ]
  },
  {
   "cell_type": "code",
   "execution_count": 113,
   "metadata": {},
   "outputs": [
    {
     "data": {
      "text/plain": [
       "array([  5102.,   5153.,   4979., 454679.,   5133.,   5101.,   4963.,\n",
       "         4945.,   4985.,   4960.])"
      ]
     },
     "execution_count": 113,
     "metadata": {},
     "output_type": "execute_result"
    }
   ],
   "source": [
    "agent.records"
   ]
  },
  {
   "cell_type": "code",
   "execution_count": 114,
   "metadata": {},
   "outputs": [
    {
     "data": {
      "text/plain": [
       "[<matplotlib.lines.Line2D at 0x7fd3e7881940>]"
      ]
     },
     "execution_count": 114,
     "metadata": {},
     "output_type": "execute_result"
    },
    {
     "data": {
      "image/png": "[encoded data removed]",
      "text/plain": [
       "<Figure size 432x288 with 1 Axes>"
      ]
     },
     "metadata": {},
     "output_type": "display_data"
    }
   ],
   "source": [
    "plt.plot(agent.history[:400])"
   ]
  },
  {
   "cell_type": "code",
   "execution_count": null,
   "metadata": {},
   "outputs": [],
   "source": []
  }
 ],
 "metadata": {
  "kernelspec": {
   "display_name": "Python 3",
   "language": "python",
   "name": "python3"
  },
  "language_info": {
   "codemirror_mode": {
    "name": "ipython",
    "version": 3
   },
   "file_extension": ".py",
   "mimetype": "text/x-python",
   "name": "python",
   "nbconvert_exporter": "python",
   "pygments_lexer": "ipython3",
   "version": "3.6.5"
  }
 },
 "nbformat": 4,
 "nbformat_minor": 2
}
