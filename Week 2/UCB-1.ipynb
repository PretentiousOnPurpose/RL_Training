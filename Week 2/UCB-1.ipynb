{
 "cells": [
  {
   "cell_type": "code",
   "execution_count": 2,
   "metadata": {},
   "outputs": [],
   "source": [
    "import numpy as np\n",
    "import matplotlib.pyplot as plt\n",
    "%matplotlib inline"
   ]
  },
  {
   "cell_type": "code",
   "execution_count": 29,
   "metadata": {},
   "outputs": [],
   "source": [
    "class Bandit:\n",
    "    def RewardFn(self, arm):\n",
    "        if arm == 3:\n",
    "            return 10.0\n",
    "        elif arm == 8:\n",
    "            return 7.0\n",
    "        else:\n",
    "            return -1\n",
    "        \n",
    "    def __init__(self, K):\n",
    "        self.K = K\n",
    "        self.total = 0\n",
    "        self.rewards = np.random.normal(0, 1, (K, ))\n",
    "        self.records = np.zeros_like(self.rewards)\n",
    "        self.history = []\n",
    "        for i in range(K):\n",
    "            self.records[i] = 1\n",
    "            self.rewards[i] += self.RewardFn(i)\n",
    "        self.n = K\n",
    "        \n",
    "\n",
    "    def getArm(self):\n",
    "         return np.argmax(self.rewards + np.sqrt(2 * self.n/(self.records)))\n",
    "        \n",
    "    def Pull(self):\n",
    "        arm = self.getArm()\n",
    "        self.records[arm] += 1\n",
    "        currReward = self.RewardFn(arm)\n",
    "        self.total += currReward\n",
    "        self.history.append(self.total)\n",
    "        self.rewards[arm] = (self.rewards[arm] * self.n + currReward)/(self.n + 1) \n",
    "        self.n += 1"
   ]
  },
  {
   "cell_type": "code",
   "execution_count": 30,
   "metadata": {},
   "outputs": [],
   "source": [
    "agent = Bandit(10)"
   ]
  },
  {
   "cell_type": "code",
   "execution_count": 42,
   "metadata": {},
   "outputs": [],
   "source": [
    "for i in range(1000):\n",
    "    agent.Pull()"
   ]
  },
  {
   "cell_type": "code",
   "execution_count": 43,
   "metadata": {},
   "outputs": [
    {
     "data": {
      "text/plain": [
       "array([  69.,   76.,   91., 4761.,   70.,   84.,   70.,   86.,  640.,\n",
       "         63.])"
      ]
     },
     "execution_count": 43,
     "metadata": {},
     "output_type": "execute_result"
    }
   ],
   "source": [
    "agent.records"
   ]
  },
  {
   "cell_type": "code",
   "execution_count": 44,
   "metadata": {
    "scrolled": true
   },
   "outputs": [
    {
     "data": {
      "text/plain": [
       "[<matplotlib.lines.Line2D at 0x7f13c76cfdd8>]"
      ]
     },
     "execution_count": 44,
     "metadata": {},
     "output_type": "execute_result"
    },
    {
     "data": {
      "image/png": "[encoded data removed]",
      "text/plain": [
       "<Figure size 432x288 with 1 Axes>"
      ]
     },
     "metadata": {},
     "output_type": "display_data"
    }
   ],
   "source": [
    "plt.plot(agent.history[:400])"
   ]
  }
 ],
 "metadata": {
  "kernelspec": {
   "display_name": "Python 3",
   "language": "python",
   "name": "python3"
  },
  "language_info": {
   "codemirror_mode": {
    "name": "ipython",
    "version": 3
   },
   "file_extension": ".py",
   "mimetype": "text/x-python",
   "name": "python",
   "nbconvert_exporter": "python",
   "pygments_lexer": "ipython3",
   "version": "3.5.2"
  }
 },
 "nbformat": 4,
 "nbformat_minor": 2
}
