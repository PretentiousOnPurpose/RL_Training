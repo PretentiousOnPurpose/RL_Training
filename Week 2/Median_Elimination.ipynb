{
 "cells": [
  {
   "cell_type": "code",
   "execution_count": 1,
   "metadata": {},
   "outputs": [],
   "source": [
    "import numpy as np\n",
    "import matplotlib.pyplot as plt\n",
    "%matplotlib inline"
   ]
  },
  {
   "cell_type": "code",
   "execution_count": 65,
   "metadata": {},
   "outputs": [],
   "source": [
    "class Bandit:\n",
    "    def RewardFn(self, arm):\n",
    "        if arm == 3:\n",
    "            return 14.0\n",
    "        elif arm == 8:\n",
    "            return 7.0\n",
    "        else:\n",
    "            return -1\n",
    "        \n",
    "    def __init__(self, K, e, d):\n",
    "        self.K = K\n",
    "        self.e = e\n",
    "        self.d = d\n",
    "        self.el = e/4\n",
    "        self.dl = d/2\n",
    "        self.A = np.linspace(0, 9, 10).astype(int)\n",
    "        self.armPulls = int(np.ceil( 2 / (self.el ** 2) * np.log(3 / self.dl)))\n",
    "        self.total = 0\n",
    "        self.rewards = np.random.normal(0, 1, (K, ))\n",
    "        self.records = np.zeros_like(self.rewards)\n",
    "        self.history = []\n",
    "        for i in range(K):\n",
    "            self.records[i] = 0\n",
    "        self.n = 0\n",
    "        \n",
    "    def Pull(self, arm):\n",
    "        self.records[arm] += 1\n",
    "        currReward = self.RewardFn(arm)\n",
    "        self.total += currReward\n",
    "        self.history.append(self.total)\n",
    "        self.rewards[arm] = (self.rewards[arm] * self.n + currReward)/(self.n + 1) \n",
    "        self.n += 1\n",
    "    \n",
    "    def getBestArm(self):\n",
    "        while len(self.A) >= 2:\n",
    "            for i in range(int(self.armPulls)):\n",
    "                for arm in self.A:\n",
    "                    self.Pull(arm)\n",
    "                self.el = (3/4) * self.el\n",
    "                self.dl = (1/2) * self.dl\n",
    "                self.A = np.argsort(agent.rewards[self.A])[int(len(np.argsort(agent.rewards[self.A]))/2):]\n",
    "        return np.argmax(self.rewards)"
   ]
  },
  {
   "cell_type": "code",
   "execution_count": 66,
   "metadata": {},
   "outputs": [],
   "source": [
    "agent = Bandit(10, 0.1, 0.1)"
   ]
  },
  {
   "cell_type": "code",
   "execution_count": 67,
   "metadata": {},
   "outputs": [
    {
     "data": {
      "text/plain": [
       "13102"
      ]
     },
     "execution_count": 67,
     "metadata": {},
     "output_type": "execute_result"
    }
   ],
   "source": [
    "agent.armPulls"
   ]
  },
  {
   "cell_type": "code",
   "execution_count": 53,
   "metadata": {},
   "outputs": [
    {
     "data": {
      "text/plain": [
       "array([7, 0, 8, 5, 3])"
      ]
     },
     "execution_count": 53,
     "metadata": {},
     "output_type": "execute_result"
    }
   ],
   "source": [
    "np.argsort(agent.rewards)[int(len(np.argsort(agent.rewards))/2):]"
   ]
  },
  {
   "cell_type": "code",
   "execution_count": 68,
   "metadata": {},
   "outputs": [
    {
     "data": {
      "text/plain": [
       "3"
      ]
     },
     "execution_count": 68,
     "metadata": {},
     "output_type": "execute_result"
    }
   ],
   "source": [
    "agent.getBestArm()"
   ]
  },
  {
   "cell_type": "code",
   "execution_count": null,
   "metadata": {},
   "outputs": [],
   "source": []
  }
 ],
 "metadata": {
  "kernelspec": {
   "display_name": "Python 3",
   "language": "python",
   "name": "python3"
  },
  "language_info": {
   "codemirror_mode": {
    "name": "ipython",
    "version": 3
   },
   "file_extension": ".py",
   "mimetype": "text/x-python",
   "name": "python",
   "nbconvert_exporter": "python",
   "pygments_lexer": "ipython3",
   "version": "3.5.2"
  }
 },
 "nbformat": 4,
 "nbformat_minor": 2
}
