{
 "cells": [
  {
   "cell_type": "code",
   "execution_count": 26,
   "metadata": {},
   "outputs": [],
   "source": [
    "import numpy as np\n",
    "import matplotlib.pyplot as plt\n",
    "%matplotlib inline"
   ]
  },
  {
   "cell_type": "code",
   "execution_count": 34,
   "metadata": {},
   "outputs": [],
   "source": [
    "class Bandit:\n",
    "    def RewardFn(self, arm):\n",
    "        if arm == 9:\n",
    "            return 1.0\n",
    "        elif arm == 8:\n",
    "            return 7.0\n",
    "        else:\n",
    "            return -1\n",
    "        \n",
    "    def __init__(self, K, e, d):\n",
    "        self.K = K\n",
    "        self.e = e\n",
    "        self.d = d\n",
    "        self.l = int(np.ceil( 2 / (e ** 2) * np.log(2 * K / d)))\n",
    "        self.total = 0\n",
    "        self.rewards = np.random.normal(0, 1, (K, ))\n",
    "        self.records = np.zeros_like(self.rewards)\n",
    "        self.history = []\n",
    "        for i in range(K):\n",
    "            self.records[i] = 0\n",
    "        self.n = 0\n",
    "        \n",
    "    def Pull(self, arm):\n",
    "        self.records[arm] += 1\n",
    "        currReward = self.RewardFn(arm)\n",
    "        self.total += currReward\n",
    "        self.history.append(self.total)\n",
    "        self.rewards[arm] = (self.rewards[arm] * self.n + currReward)/(self.n + 1) \n",
    "        self.n += 1\n",
    "    \n",
    "    def getBestArm(self):\n",
    "        for i in range(self.l):\n",
    "            for arm in range(self.K):\n",
    "                self.Pull(arm)\n",
    "        \n",
    "        return np.argmax(self.rewards)"
   ]
  },
  {
   "cell_type": "code",
   "execution_count": 35,
   "metadata": {},
   "outputs": [],
   "source": [
    "agent = Bandit(10, 0.1, 0.1)"
   ]
  },
  {
   "cell_type": "code",
   "execution_count": 36,
   "metadata": {},
   "outputs": [
    {
     "data": {
      "text/plain": [
       "8"
      ]
     },
     "execution_count": 36,
     "metadata": {},
     "output_type": "execute_result"
    }
   ],
   "source": [
    "agent.getBestArm()"
   ]
  },
  {
   "cell_type": "code",
   "execution_count": null,
   "metadata": {},
   "outputs": [],
   "source": []
  }
 ],
 "metadata": {},
 "nbformat": 4,
 "nbformat_minor": 2
}
