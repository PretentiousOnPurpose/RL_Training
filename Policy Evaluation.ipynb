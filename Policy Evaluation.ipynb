{
 "cells": [
  {
   "cell_type": "code",
   "execution_count": 1,
   "metadata": {},
   "outputs": [],
   "source": [
    "import numpy as np\n",
    "import itertools"
   ]
  },
  {
   "cell_type": "code",
   "execution_count": 75,
   "metadata": {},
   "outputs": [],
   "source": [
    "class env():\n",
    "    def __init__(self, shape):\n",
    "        self.shape = shape\n",
    "        self.values = np.zeros(shape)\n",
    "        self.nvalues = np.zeros(shape)\n",
    "        self.actions = np.array(['u', 'd', 'l', 'r'])\n",
    "        self.term_states = np.array([np.array([0, 0]), np.array([3, 3])])\n",
    "        self.all_states = [list(i) for i in itertools.product([0, 1, 2, 3], [0, 1, 2, 3])]\n",
    "    \n",
    "    def sample_new_state(self):\n",
    "        i = 0\n",
    "        j = 0\n",
    "        \n",
    "        while(i == 0 and j == 0 or i == 3 and j == 3):\n",
    "            i = np.random.randint(0, 4)\n",
    "            j = np.random.randint(0, 4)\n",
    "        \n",
    "        return [i, j]\n",
    "    \n",
    "    def greedy_action(self, state):\n",
    "        v = np.zeros((4,))\n",
    "        \n",
    "        next_state = state + np.array([-1, 0])\n",
    "        next_state[next_state < 0] = 0\n",
    "        \n",
    "        v[0] = self.nvalues[tuple(next_state)]\n",
    "        \n",
    "        next_state = state + np.array([0, -1])\n",
    "        next_state[next_state < 0] = 0\n",
    "        \n",
    "        v[1] = self.nvalues[tuple(next_state)]\n",
    "\n",
    "        next_state = state + np.array([0, 1])\n",
    "        next_state[next_state > 3] = 3\n",
    "        \n",
    "        v[2] = self.nvalues[tuple(next_state)]\n",
    "\n",
    "        next_state = state + np.array([1, 0])\n",
    "        next_state[next_state > 3] = 3\n",
    "\n",
    "        v[3] = self.nvalues[tuple(next_state)]\n",
    "        \n",
    "        a = np.argmax(v)\n",
    "\n",
    "        if a == 0:\n",
    "            bestAction = 'u'\n",
    "        elif a == 1:\n",
    "            bestAction = 'l'\n",
    "        elif a == 2:\n",
    "            bestAction = 'r'\n",
    "        elif a == 3:\n",
    "            bestAction = 'd'\n",
    "        \n",
    "        return bestAction\n",
    "\n",
    "    \n",
    "    def step(self, state, action):\n",
    "        if action == 'u':\n",
    "            next_state = state + np.array([-1, 0])\n",
    "            next_state[next_state < 0] = 0\n",
    "        elif action == 'l':\n",
    "            next_state = state + np.array([0, -1])\n",
    "            next_state[next_state < 0] = 0\n",
    "        elif action == 'r':\n",
    "            next_state = state + np.array([0, 1])\n",
    "            next_state[next_state > 3] = 3\n",
    "        elif action == 'd':\n",
    "            next_state = state + np.array([1, 0])\n",
    "            next_state[next_state > 3] = 3\n",
    "\n",
    "        if (next_state == self.term_states[0]).all() or (next_state == self.term_states[1]).all():\n",
    "#             print(next_state)\n",
    "            reward = -1\n",
    "            term = 1\n",
    "        else:\n",
    "            reward = -1\n",
    "            term = 0        \n",
    "        \n",
    "        return (reward, next_state, term)"
   ]
  },
  {
   "cell_type": "code",
   "execution_count": 85,
   "metadata": {},
   "outputs": [],
   "source": [
    "agent = env([4, 4])"
   ]
  },
  {
   "cell_type": "code",
   "execution_count": 86,
   "metadata": {},
   "outputs": [],
   "source": [
    "for i in range(1000):\n",
    "    for state in agent.all_states[1:-1]:\n",
    "        for action in agent.actions:\n",
    "            reward, nstate, term = agent.step(state, action)\n",
    "            agent.nvalues[tuple(state)] += 0.25 * (reward + agent.values[tuple(nstate)])\n",
    "\n",
    "    agent.values = agent.nvalues\n",
    "    agent.nvalues = np.zeros_like(agent.values)"
   ]
  },
  {
   "cell_type": "code",
   "execution_count": 87,
   "metadata": {},
   "outputs": [
    {
     "data": {
      "text/plain": [
       "array([[  0., -14., -20., -22.],\n",
       "       [-14., -18., -20., -20.],\n",
       "       [-20., -20., -18., -14.],\n",
       "       [-22., -20., -14.,   0.]])"
      ]
     },
     "execution_count": 87,
     "metadata": {},
     "output_type": "execute_result"
    }
   ],
   "source": [
    "agent.values"
   ]
  },
  {
   "cell_type": "code",
   "execution_count": null,
   "metadata": {},
   "outputs": [],
   "source": []
  }
 ],
 "metadata": {
  "kernelspec": {
   "display_name": "Python 3",
   "language": "python",
   "name": "python3"
  },
  "language_info": {
   "codemirror_mode": {
    "name": "ipython",
    "version": 3
   },
   "file_extension": ".py",
   "mimetype": "text/x-python",
   "name": "python",
   "nbconvert_exporter": "python",
   "pygments_lexer": "ipython3",
   "version": "3.8.2"
  }
 },
 "nbformat": 4,
 "nbformat_minor": 4
}
